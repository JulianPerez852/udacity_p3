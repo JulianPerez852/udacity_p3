{
 "cells": [
  {
   "cell_type": "code",
   "execution_count": 3,
   "id": "17e162d9",
   "metadata": {},
   "outputs": [],
   "source": [
    "import requests\n",
    "import json"
   ]
  },
  {
   "cell_type": "code",
   "execution_count": 4,
   "id": "1c3e1df3",
   "metadata": {},
   "outputs": [
    {
     "name": "stdout",
     "output_type": "stream",
     "text": [
      "True\n",
      "Welcome to the api for the course machine learning devops - module 3\n"
     ]
    }
   ],
   "source": [
    "path = \"http://127.0.0.1:8000/\"\n",
    "response = requests.get(url=path)\n",
    "responseJson = json.loads(response.text)\n",
    "print(response.status_code == 200)\n",
    "print(responseJson)"
   ]
  },
  {
   "cell_type": "code",
   "execution_count": 9,
   "id": "fb73728e",
   "metadata": {},
   "outputs": [
    {
     "name": "stdout",
     "output_type": "stream",
     "text": [
      "True\n"
     ]
    }
   ],
   "source": [
    "path = \"http://127.0.0.1:8000/predict\"\n",
    "json={\n",
    "    \"age\": 39,\n",
    "    \"workclass\": \"State-gov\",\n",
    "    \"fnlgt\": 77516,\n",
    "    \"education\": \"Bachelors\",\n",
    "    \"education_num\": 13,\n",
    "    \"marital_status\": \"Never-married\",\n",
    "    \"occupation\": \"Adm-clerical\",\n",
    "    \"relationship\": \"Not-in-family\",\n",
    "    \"race\": \"White\",\n",
    "    \"sex\": \"Male\",\n",
    "    \"capital_gain\": 2174,\n",
    "    \"capital_loss\": 0,\n",
    "    \"hours_per_week\": 40,\n",
    "    \"native_country\": \"United-States\"\n",
    "}\n",
    "\n",
    "response = requests.post(url=path, json=json)\n",
    "print(response.status_code == 200)\n"
   ]
  },
  {
   "cell_type": "code",
   "execution_count": 8,
   "id": "90fff3dc",
   "metadata": {},
   "outputs": [
    {
     "name": "stdout",
     "output_type": "stream",
     "text": [
      "\"This person gain in one year  <=50K\"\n"
     ]
    }
   ],
   "source": [
    "path = \"http://127.0.0.1:8000/predict\"\n",
    "json={\n",
    "    \"age\": 39,\n",
    "    \"workclass\": \"State-gov\",\n",
    "    \"fnlgt\": 77516,\n",
    "    \"education\": \"Bachelors\",\n",
    "    \"education_num\": 13,\n",
    "    \"marital_status\": \"Never-married\",\n",
    "    \"occupation\": \"Adm-clerical\",\n",
    "    \"relationship\": \"Not-in-family\",\n",
    "    \"race\": \"White\",\n",
    "    \"sex\": \"Male\",\n",
    "    \"capital_gain\": 2174,\n",
    "    \"capital_loss\": 0,\n",
    "    \"hours_per_week\": 40,\n",
    "    \"native_country\": \"United-States\"\n",
    "}\n",
    "\n",
    "response = requests.post(url=path, json=json)\n",
    "print(response.text)"
   ]
  },
  {
   "cell_type": "code",
   "execution_count": null,
   "id": "5495d13d",
   "metadata": {},
   "outputs": [],
   "source": []
  }
 ],
 "metadata": {
  "kernelspec": {
   "display_name": "Python 3 (ipykernel)",
   "language": "python",
   "name": "python3"
  },
  "language_info": {
   "codemirror_mode": {
    "name": "ipython",
    "version": 3
   },
   "file_extension": ".py",
   "mimetype": "text/x-python",
   "name": "python",
   "nbconvert_exporter": "python",
   "pygments_lexer": "ipython3",
   "version": "3.8.12"
  }
 },
 "nbformat": 4,
 "nbformat_minor": 5
}
