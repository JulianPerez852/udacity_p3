{
 "cells": [
  {
   "cell_type": "code",
   "execution_count": 1,
   "id": "4a35597a",
   "metadata": {},
   "outputs": [],
   "source": [
    "from sklearn.model_selection import train_test_split\n",
    "import pandas as pd\n",
    "from sklearn.model_selection import KFold\n",
    "from sklearn import preprocessing\n",
    "import pickle"
   ]
  },
  {
   "cell_type": "code",
   "execution_count": 2,
   "id": "b2329220",
   "metadata": {},
   "outputs": [],
   "source": [
    "from ml.data import process_data\n",
    "from ml.model import train_model, compute_model_metrics"
   ]
  },
  {
   "cell_type": "code",
   "execution_count": 13,
   "id": "12121c74",
   "metadata": {},
   "outputs": [],
   "source": [
    "data=pd.read_csv('data/census_clean.csv')"
   ]
  },
  {
   "cell_type": "code",
   "execution_count": 19,
   "id": "756dd615",
   "metadata": {},
   "outputs": [],
   "source": [
    "data=data.drop(\"Unnamed: 0\",axis=1)"
   ]
  },
  {
   "cell_type": "code",
   "execution_count": 20,
   "id": "55792d21",
   "metadata": {},
   "outputs": [
    {
     "data": {
      "text/html": [
       "<div>\n",
       "<style scoped>\n",
       "    .dataframe tbody tr th:only-of-type {\n",
       "        vertical-align: middle;\n",
       "    }\n",
       "\n",
       "    .dataframe tbody tr th {\n",
       "        vertical-align: top;\n",
       "    }\n",
       "\n",
       "    .dataframe thead th {\n",
       "        text-align: right;\n",
       "    }\n",
       "</style>\n",
       "<table border=\"1\" class=\"dataframe\">\n",
       "  <thead>\n",
       "    <tr style=\"text-align: right;\">\n",
       "      <th></th>\n",
       "      <th>age</th>\n",
       "      <th>workclass</th>\n",
       "      <th>fnlgt</th>\n",
       "      <th>education</th>\n",
       "      <th>education-num</th>\n",
       "      <th>marital-status</th>\n",
       "      <th>occupation</th>\n",
       "      <th>relationship</th>\n",
       "      <th>race</th>\n",
       "      <th>sex</th>\n",
       "      <th>capital-gain</th>\n",
       "      <th>capital-loss</th>\n",
       "      <th>hours-per-week</th>\n",
       "      <th>native-country</th>\n",
       "      <th>salary</th>\n",
       "    </tr>\n",
       "  </thead>\n",
       "  <tbody>\n",
       "    <tr>\n",
       "      <th>0</th>\n",
       "      <td>39</td>\n",
       "      <td>State-gov</td>\n",
       "      <td>77516</td>\n",
       "      <td>Bachelors</td>\n",
       "      <td>13</td>\n",
       "      <td>Never-married</td>\n",
       "      <td>Adm-clerical</td>\n",
       "      <td>Not-in-family</td>\n",
       "      <td>White</td>\n",
       "      <td>Male</td>\n",
       "      <td>2174</td>\n",
       "      <td>0</td>\n",
       "      <td>40</td>\n",
       "      <td>United-States</td>\n",
       "      <td>&lt;=50K</td>\n",
       "    </tr>\n",
       "    <tr>\n",
       "      <th>1</th>\n",
       "      <td>50</td>\n",
       "      <td>Self-emp-not-inc</td>\n",
       "      <td>83311</td>\n",
       "      <td>Bachelors</td>\n",
       "      <td>13</td>\n",
       "      <td>Married-civ-spouse</td>\n",
       "      <td>Exec-managerial</td>\n",
       "      <td>Husband</td>\n",
       "      <td>White</td>\n",
       "      <td>Male</td>\n",
       "      <td>0</td>\n",
       "      <td>0</td>\n",
       "      <td>13</td>\n",
       "      <td>United-States</td>\n",
       "      <td>&lt;=50K</td>\n",
       "    </tr>\n",
       "    <tr>\n",
       "      <th>2</th>\n",
       "      <td>38</td>\n",
       "      <td>Private</td>\n",
       "      <td>215646</td>\n",
       "      <td>HS-grad</td>\n",
       "      <td>9</td>\n",
       "      <td>Divorced</td>\n",
       "      <td>Handlers-cleaners</td>\n",
       "      <td>Not-in-family</td>\n",
       "      <td>White</td>\n",
       "      <td>Male</td>\n",
       "      <td>0</td>\n",
       "      <td>0</td>\n",
       "      <td>40</td>\n",
       "      <td>United-States</td>\n",
       "      <td>&lt;=50K</td>\n",
       "    </tr>\n",
       "    <tr>\n",
       "      <th>3</th>\n",
       "      <td>53</td>\n",
       "      <td>Private</td>\n",
       "      <td>234721</td>\n",
       "      <td>11th</td>\n",
       "      <td>7</td>\n",
       "      <td>Married-civ-spouse</td>\n",
       "      <td>Handlers-cleaners</td>\n",
       "      <td>Husband</td>\n",
       "      <td>Black</td>\n",
       "      <td>Male</td>\n",
       "      <td>0</td>\n",
       "      <td>0</td>\n",
       "      <td>40</td>\n",
       "      <td>United-States</td>\n",
       "      <td>&lt;=50K</td>\n",
       "    </tr>\n",
       "    <tr>\n",
       "      <th>4</th>\n",
       "      <td>28</td>\n",
       "      <td>Private</td>\n",
       "      <td>338409</td>\n",
       "      <td>Bachelors</td>\n",
       "      <td>13</td>\n",
       "      <td>Married-civ-spouse</td>\n",
       "      <td>Prof-specialty</td>\n",
       "      <td>Wife</td>\n",
       "      <td>Black</td>\n",
       "      <td>Female</td>\n",
       "      <td>0</td>\n",
       "      <td>0</td>\n",
       "      <td>40</td>\n",
       "      <td>Cuba</td>\n",
       "      <td>&lt;=50K</td>\n",
       "    </tr>\n",
       "    <tr>\n",
       "      <th>...</th>\n",
       "      <td>...</td>\n",
       "      <td>...</td>\n",
       "      <td>...</td>\n",
       "      <td>...</td>\n",
       "      <td>...</td>\n",
       "      <td>...</td>\n",
       "      <td>...</td>\n",
       "      <td>...</td>\n",
       "      <td>...</td>\n",
       "      <td>...</td>\n",
       "      <td>...</td>\n",
       "      <td>...</td>\n",
       "      <td>...</td>\n",
       "      <td>...</td>\n",
       "      <td>...</td>\n",
       "    </tr>\n",
       "    <tr>\n",
       "      <th>30157</th>\n",
       "      <td>27</td>\n",
       "      <td>Private</td>\n",
       "      <td>257302</td>\n",
       "      <td>Assoc-acdm</td>\n",
       "      <td>12</td>\n",
       "      <td>Married-civ-spouse</td>\n",
       "      <td>Tech-support</td>\n",
       "      <td>Wife</td>\n",
       "      <td>White</td>\n",
       "      <td>Female</td>\n",
       "      <td>0</td>\n",
       "      <td>0</td>\n",
       "      <td>38</td>\n",
       "      <td>United-States</td>\n",
       "      <td>&lt;=50K</td>\n",
       "    </tr>\n",
       "    <tr>\n",
       "      <th>30158</th>\n",
       "      <td>40</td>\n",
       "      <td>Private</td>\n",
       "      <td>154374</td>\n",
       "      <td>HS-grad</td>\n",
       "      <td>9</td>\n",
       "      <td>Married-civ-spouse</td>\n",
       "      <td>Machine-op-inspct</td>\n",
       "      <td>Husband</td>\n",
       "      <td>White</td>\n",
       "      <td>Male</td>\n",
       "      <td>0</td>\n",
       "      <td>0</td>\n",
       "      <td>40</td>\n",
       "      <td>United-States</td>\n",
       "      <td>&gt;50K</td>\n",
       "    </tr>\n",
       "    <tr>\n",
       "      <th>30159</th>\n",
       "      <td>58</td>\n",
       "      <td>Private</td>\n",
       "      <td>151910</td>\n",
       "      <td>HS-grad</td>\n",
       "      <td>9</td>\n",
       "      <td>Widowed</td>\n",
       "      <td>Adm-clerical</td>\n",
       "      <td>Unmarried</td>\n",
       "      <td>White</td>\n",
       "      <td>Female</td>\n",
       "      <td>0</td>\n",
       "      <td>0</td>\n",
       "      <td>40</td>\n",
       "      <td>United-States</td>\n",
       "      <td>&lt;=50K</td>\n",
       "    </tr>\n",
       "    <tr>\n",
       "      <th>30160</th>\n",
       "      <td>22</td>\n",
       "      <td>Private</td>\n",
       "      <td>201490</td>\n",
       "      <td>HS-grad</td>\n",
       "      <td>9</td>\n",
       "      <td>Never-married</td>\n",
       "      <td>Adm-clerical</td>\n",
       "      <td>Own-child</td>\n",
       "      <td>White</td>\n",
       "      <td>Male</td>\n",
       "      <td>0</td>\n",
       "      <td>0</td>\n",
       "      <td>20</td>\n",
       "      <td>United-States</td>\n",
       "      <td>&lt;=50K</td>\n",
       "    </tr>\n",
       "    <tr>\n",
       "      <th>30161</th>\n",
       "      <td>52</td>\n",
       "      <td>Self-emp-inc</td>\n",
       "      <td>287927</td>\n",
       "      <td>HS-grad</td>\n",
       "      <td>9</td>\n",
       "      <td>Married-civ-spouse</td>\n",
       "      <td>Exec-managerial</td>\n",
       "      <td>Wife</td>\n",
       "      <td>White</td>\n",
       "      <td>Female</td>\n",
       "      <td>15024</td>\n",
       "      <td>0</td>\n",
       "      <td>40</td>\n",
       "      <td>United-States</td>\n",
       "      <td>&gt;50K</td>\n",
       "    </tr>\n",
       "  </tbody>\n",
       "</table>\n",
       "<p>30162 rows × 15 columns</p>\n",
       "</div>"
      ],
      "text/plain": [
       "       age          workclass   fnlgt    education   education-num  \\\n",
       "0       39          State-gov   77516    Bachelors              13   \n",
       "1       50   Self-emp-not-inc   83311    Bachelors              13   \n",
       "2       38            Private  215646      HS-grad               9   \n",
       "3       53            Private  234721         11th               7   \n",
       "4       28            Private  338409    Bachelors              13   \n",
       "...    ...                ...     ...          ...             ...   \n",
       "30157   27            Private  257302   Assoc-acdm              12   \n",
       "30158   40            Private  154374      HS-grad               9   \n",
       "30159   58            Private  151910      HS-grad               9   \n",
       "30160   22            Private  201490      HS-grad               9   \n",
       "30161   52       Self-emp-inc  287927      HS-grad               9   \n",
       "\n",
       "            marital-status          occupation    relationship    race  \\\n",
       "0            Never-married        Adm-clerical   Not-in-family   White   \n",
       "1       Married-civ-spouse     Exec-managerial         Husband   White   \n",
       "2                 Divorced   Handlers-cleaners   Not-in-family   White   \n",
       "3       Married-civ-spouse   Handlers-cleaners         Husband   Black   \n",
       "4       Married-civ-spouse      Prof-specialty            Wife   Black   \n",
       "...                    ...                 ...             ...     ...   \n",
       "30157   Married-civ-spouse        Tech-support            Wife   White   \n",
       "30158   Married-civ-spouse   Machine-op-inspct         Husband   White   \n",
       "30159              Widowed        Adm-clerical       Unmarried   White   \n",
       "30160        Never-married        Adm-clerical       Own-child   White   \n",
       "30161   Married-civ-spouse     Exec-managerial            Wife   White   \n",
       "\n",
       "           sex   capital-gain   capital-loss   hours-per-week  native-country  \\\n",
       "0         Male           2174              0               40   United-States   \n",
       "1         Male              0              0               13   United-States   \n",
       "2         Male              0              0               40   United-States   \n",
       "3         Male              0              0               40   United-States   \n",
       "4       Female              0              0               40            Cuba   \n",
       "...        ...            ...            ...              ...             ...   \n",
       "30157   Female              0              0               38   United-States   \n",
       "30158     Male              0              0               40   United-States   \n",
       "30159   Female              0              0               40   United-States   \n",
       "30160     Male              0              0               20   United-States   \n",
       "30161   Female          15024              0               40   United-States   \n",
       "\n",
       "       salary  \n",
       "0       <=50K  \n",
       "1       <=50K  \n",
       "2       <=50K  \n",
       "3       <=50K  \n",
       "4       <=50K  \n",
       "...       ...  \n",
       "30157   <=50K  \n",
       "30158    >50K  \n",
       "30159   <=50K  \n",
       "30160   <=50K  \n",
       "30161    >50K  \n",
       "\n",
       "[30162 rows x 15 columns]"
      ]
     },
     "execution_count": 20,
     "metadata": {},
     "output_type": "execute_result"
    }
   ],
   "source": [
    "data"
   ]
  },
  {
   "cell_type": "code",
   "execution_count": 4,
   "id": "ded15bb0",
   "metadata": {},
   "outputs": [],
   "source": [
    "#X=data.loc[:, data.columns != ' salary']"
   ]
  },
  {
   "cell_type": "code",
   "execution_count": 5,
   "id": "c348b1a6",
   "metadata": {},
   "outputs": [],
   "source": [
    "#y=data[' salary']"
   ]
  },
  {
   "cell_type": "code",
   "execution_count": 6,
   "id": "7ed45b71",
   "metadata": {},
   "outputs": [],
   "source": [
    "#le=preprocessing.LabelEncoder()\n",
    "#le.fit(y)\n",
    "#list(le.classes_)\n",
    "#y=le.transform(y)"
   ]
  },
  {
   "cell_type": "code",
   "execution_count": 21,
   "id": "70e9c163",
   "metadata": {},
   "outputs": [],
   "source": [
    "cat_features = [\n",
    "    \" workclass\",\n",
    "    \" education\",\n",
    "    \" marital-status\",\n",
    "    \" occupation\",\n",
    "    \" relationship\",\n",
    "    \" race\",\n",
    "    \" sex\",\n",
    "    \" native-country\",\n",
    "]"
   ]
  },
  {
   "cell_type": "code",
   "execution_count": 22,
   "id": "e8077522",
   "metadata": {},
   "outputs": [],
   "source": [
    "X, y, encoder, lb = process_data(\n",
    "data, categorical_features=cat_features, label=\" salary\", training=True\n",
    ")"
   ]
  },
  {
   "cell_type": "code",
   "execution_count": 23,
   "id": "f37e3f5e",
   "metadata": {},
   "outputs": [
    {
     "data": {
      "text/plain": [
       "LabelBinarizer()"
      ]
     },
     "execution_count": 23,
     "metadata": {},
     "output_type": "execute_result"
    }
   ],
   "source": [
    "lb"
   ]
  },
  {
   "cell_type": "code",
   "execution_count": 8,
   "id": "1824d95e",
   "metadata": {},
   "outputs": [],
   "source": [
    "filename = 'ml/LabelBinarizer.sav'\n",
    "pickle.dump(lb, open(filename, 'wb'))\n",
    "\n",
    "filename = 'ml/OneHotEncoder.sav'\n",
    "pickle.dump(encoder, open(filename, 'wb'))"
   ]
  },
  {
   "cell_type": "code",
   "execution_count": 24,
   "id": "895523c9",
   "metadata": {},
   "outputs": [],
   "source": [
    "kf = KFold(n_splits=5)"
   ]
  },
  {
   "cell_type": "code",
   "execution_count": 25,
   "id": "b0de5de3",
   "metadata": {},
   "outputs": [
    {
     "data": {
      "text/plain": [
       "5"
      ]
     },
     "execution_count": 25,
     "metadata": {},
     "output_type": "execute_result"
    }
   ],
   "source": [
    "kf.get_n_splits(X)"
   ]
  },
  {
   "cell_type": "code",
   "execution_count": 26,
   "id": "acd3b380",
   "metadata": {},
   "outputs": [
    {
     "data": {
      "text/plain": [
       "KFold(n_splits=5, random_state=None, shuffle=False)"
      ]
     },
     "execution_count": 26,
     "metadata": {},
     "output_type": "execute_result"
    }
   ],
   "source": [
    "KFold(n_splits=5, random_state=None, shuffle=False)"
   ]
  },
  {
   "cell_type": "code",
   "execution_count": 27,
   "id": "78c9fcf0",
   "metadata": {},
   "outputs": [
    {
     "name": "stdout",
     "output_type": "stream",
     "text": [
      "Precision:  0.731764705882353 , Recall:  0.6187002652519894 , fbeta:  0.670499461013295\n",
      "Precision:  0.7142857142857143 , Recall:  0.6096730245231607 , fbeta:  0.6578463800073502\n",
      "Precision:  0.7173091458805745 , Recall:  0.6407832545577312 , fbeta:  0.6768901569186876\n",
      "Precision:  0.7594226142742582 , Recall:  0.6234364713627386 , fbeta:  0.6847433116413593\n",
      "Precision:  0.7464150943396226 , Recall:  0.6455613577023499 , fbeta:  0.6923346167308366\n"
     ]
    }
   ],
   "source": [
    "best_precision=0\n",
    "best_model=\"\"\n",
    "for train_index, test_index in kf.split(X):\n",
    "    X_train, X_test = X[train_index], X[test_index] \n",
    "    y_train, y_test = y[train_index], y[test_index] \n",
    "        \n",
    "    model=train_model(X_train, y_train)\n",
    "    \n",
    "    preds=model.predict(X_test)\n",
    "    \n",
    "    precision, recall, fbeta=compute_model_metrics(y_test, preds)\n",
    "    \n",
    "    print(\"Precision: \",precision,\", Recall: \", recall, \", fbeta: \", fbeta)\n",
    "    \n",
    "    if precision > best_precision:\n",
    "        best_precision=precision\n",
    "        best_model=model\n",
    "    \n",
    "    "
   ]
  },
  {
   "cell_type": "code",
   "execution_count": 16,
   "id": "f68bf2ec",
   "metadata": {},
   "outputs": [],
   "source": [
    "filename = 'ml/finalized_model.sav'\n",
    "pickle.dump(best_model, open(filename, 'wb'))"
   ]
  },
  {
   "cell_type": "code",
   "execution_count": 27,
   "id": "6044cb37",
   "metadata": {},
   "outputs": [
    {
     "data": {
      "text/plain": [
       "16"
      ]
     },
     "execution_count": 27,
     "metadata": {},
     "output_type": "execute_result"
    }
   ],
   "source": [
    "data.shape[1]"
   ]
  },
  {
   "cell_type": "code",
   "execution_count": 28,
   "id": "363a10d5",
   "metadata": {},
   "outputs": [
    {
     "data": {
      "text/plain": [
       "105"
      ]
     },
     "execution_count": 28,
     "metadata": {},
     "output_type": "execute_result"
    }
   ],
   "source": [
    "len(X[0])"
   ]
  },
  {
   "cell_type": "code",
   "execution_count": 29,
   "id": "f7c58fc4",
   "metadata": {},
   "outputs": [
    {
     "data": {
      "text/plain": [
       "True"
      ]
     },
     "execution_count": 29,
     "metadata": {},
     "output_type": "execute_result"
    }
   ],
   "source": [
    "data.shape[1] < len(X[0])"
   ]
  },
  {
   "cell_type": "code",
   "execution_count": 80,
   "id": "7e915d80",
   "metadata": {},
   "outputs": [],
   "source": [
    "def slice_data(df, cat_features, encoder, lb, model):\n",
    "    \"\"\" Function for calculating descriptive stats on slices of the dataset.\"\"\"\n",
    "    for cat in cat_features:\n",
    "        print(\"Categoria: \", cat)\n",
    "        for cls in df[cat].unique():\n",
    "            print(cls)\n",
    "            df_temp = df[df[cat] == cls]\n",
    "            \n",
    "            X_temp, y_temp, encoder1, lb1 = process_data(\n",
    "            df_temp, categorical_features=cat_features, label=\" salary\", training=False, encoder=encoder, lb=lb,\n",
    "            )\n",
    "            \n",
    "            preds=model.predict(X_temp)\n",
    "    \n",
    "            precision, recall, fbeta=compute_model_metrics(y_temp, preds)\n",
    "        \n",
    "            with open(\"ml/slice_output.txt\", 'a') as f:\n",
    "                f.write(\"\\nCategory: \"+ cat +\", \"+ cls+\"\\n\")\n",
    "                f.write(\" -Precision: \" + str(precision)+\"\\n\")\n",
    "                f.write(\" -Recall: \" + str(recall)+\"\\n\")\n",
    "                f.write(\" -Fbeta: \" + str(fbeta)+\"\\n\")"
   ]
  },
  {
   "cell_type": "code",
   "execution_count": 46,
   "id": "6a047c67",
   "metadata": {},
   "outputs": [
    {
     "data": {
      "text/plain": [
       "0         True\n",
       "1         True\n",
       "2         True\n",
       "3         True\n",
       "4        False\n",
       "         ...  \n",
       "30157    False\n",
       "30158     True\n",
       "30159    False\n",
       "30160     True\n",
       "30161    False\n",
       "Name:  sex, Length: 30162, dtype: bool"
      ]
     },
     "execution_count": 46,
     "metadata": {},
     "output_type": "execute_result"
    }
   ],
   "source": [
    "df_temp = data[\" sex\"] == \" Male\"\n",
    "df_temp"
   ]
  },
  {
   "cell_type": "code",
   "execution_count": 47,
   "id": "738a40f3",
   "metadata": {
    "scrolled": true
   },
   "outputs": [
    {
     "data": {
      "text/html": [
       "<div>\n",
       "<style scoped>\n",
       "    .dataframe tbody tr th:only-of-type {\n",
       "        vertical-align: middle;\n",
       "    }\n",
       "\n",
       "    .dataframe tbody tr th {\n",
       "        vertical-align: top;\n",
       "    }\n",
       "\n",
       "    .dataframe thead th {\n",
       "        text-align: right;\n",
       "    }\n",
       "</style>\n",
       "<table border=\"1\" class=\"dataframe\">\n",
       "  <thead>\n",
       "    <tr style=\"text-align: right;\">\n",
       "      <th></th>\n",
       "      <th>Unnamed: 0</th>\n",
       "      <th>age</th>\n",
       "      <th>workclass</th>\n",
       "      <th>fnlgt</th>\n",
       "      <th>education</th>\n",
       "      <th>education-num</th>\n",
       "      <th>marital-status</th>\n",
       "      <th>occupation</th>\n",
       "      <th>relationship</th>\n",
       "      <th>race</th>\n",
       "      <th>sex</th>\n",
       "      <th>capital-gain</th>\n",
       "      <th>capital-loss</th>\n",
       "      <th>hours-per-week</th>\n",
       "      <th>native-country</th>\n",
       "      <th>salary</th>\n",
       "    </tr>\n",
       "  </thead>\n",
       "  <tbody>\n",
       "    <tr>\n",
       "      <th>0</th>\n",
       "      <td>0</td>\n",
       "      <td>39</td>\n",
       "      <td>State-gov</td>\n",
       "      <td>77516</td>\n",
       "      <td>Bachelors</td>\n",
       "      <td>13</td>\n",
       "      <td>Never-married</td>\n",
       "      <td>Adm-clerical</td>\n",
       "      <td>Not-in-family</td>\n",
       "      <td>White</td>\n",
       "      <td>Male</td>\n",
       "      <td>2174</td>\n",
       "      <td>0</td>\n",
       "      <td>40</td>\n",
       "      <td>United-States</td>\n",
       "      <td>&lt;=50K</td>\n",
       "    </tr>\n",
       "    <tr>\n",
       "      <th>1</th>\n",
       "      <td>1</td>\n",
       "      <td>50</td>\n",
       "      <td>Self-emp-not-inc</td>\n",
       "      <td>83311</td>\n",
       "      <td>Bachelors</td>\n",
       "      <td>13</td>\n",
       "      <td>Married-civ-spouse</td>\n",
       "      <td>Exec-managerial</td>\n",
       "      <td>Husband</td>\n",
       "      <td>White</td>\n",
       "      <td>Male</td>\n",
       "      <td>0</td>\n",
       "      <td>0</td>\n",
       "      <td>13</td>\n",
       "      <td>United-States</td>\n",
       "      <td>&lt;=50K</td>\n",
       "    </tr>\n",
       "    <tr>\n",
       "      <th>2</th>\n",
       "      <td>2</td>\n",
       "      <td>38</td>\n",
       "      <td>Private</td>\n",
       "      <td>215646</td>\n",
       "      <td>HS-grad</td>\n",
       "      <td>9</td>\n",
       "      <td>Divorced</td>\n",
       "      <td>Handlers-cleaners</td>\n",
       "      <td>Not-in-family</td>\n",
       "      <td>White</td>\n",
       "      <td>Male</td>\n",
       "      <td>0</td>\n",
       "      <td>0</td>\n",
       "      <td>40</td>\n",
       "      <td>United-States</td>\n",
       "      <td>&lt;=50K</td>\n",
       "    </tr>\n",
       "    <tr>\n",
       "      <th>3</th>\n",
       "      <td>3</td>\n",
       "      <td>53</td>\n",
       "      <td>Private</td>\n",
       "      <td>234721</td>\n",
       "      <td>11th</td>\n",
       "      <td>7</td>\n",
       "      <td>Married-civ-spouse</td>\n",
       "      <td>Handlers-cleaners</td>\n",
       "      <td>Husband</td>\n",
       "      <td>Black</td>\n",
       "      <td>Male</td>\n",
       "      <td>0</td>\n",
       "      <td>0</td>\n",
       "      <td>40</td>\n",
       "      <td>United-States</td>\n",
       "      <td>&lt;=50K</td>\n",
       "    </tr>\n",
       "    <tr>\n",
       "      <th>7</th>\n",
       "      <td>7</td>\n",
       "      <td>52</td>\n",
       "      <td>Self-emp-not-inc</td>\n",
       "      <td>209642</td>\n",
       "      <td>HS-grad</td>\n",
       "      <td>9</td>\n",
       "      <td>Married-civ-spouse</td>\n",
       "      <td>Exec-managerial</td>\n",
       "      <td>Husband</td>\n",
       "      <td>White</td>\n",
       "      <td>Male</td>\n",
       "      <td>0</td>\n",
       "      <td>0</td>\n",
       "      <td>45</td>\n",
       "      <td>United-States</td>\n",
       "      <td>&gt;50K</td>\n",
       "    </tr>\n",
       "    <tr>\n",
       "      <th>...</th>\n",
       "      <td>...</td>\n",
       "      <td>...</td>\n",
       "      <td>...</td>\n",
       "      <td>...</td>\n",
       "      <td>...</td>\n",
       "      <td>...</td>\n",
       "      <td>...</td>\n",
       "      <td>...</td>\n",
       "      <td>...</td>\n",
       "      <td>...</td>\n",
       "      <td>...</td>\n",
       "      <td>...</td>\n",
       "      <td>...</td>\n",
       "      <td>...</td>\n",
       "      <td>...</td>\n",
       "      <td>...</td>\n",
       "    </tr>\n",
       "    <tr>\n",
       "      <th>30154</th>\n",
       "      <td>32553</td>\n",
       "      <td>32</td>\n",
       "      <td>Private</td>\n",
       "      <td>116138</td>\n",
       "      <td>Masters</td>\n",
       "      <td>14</td>\n",
       "      <td>Never-married</td>\n",
       "      <td>Tech-support</td>\n",
       "      <td>Not-in-family</td>\n",
       "      <td>Asian-Pac-Islander</td>\n",
       "      <td>Male</td>\n",
       "      <td>0</td>\n",
       "      <td>0</td>\n",
       "      <td>11</td>\n",
       "      <td>Taiwan</td>\n",
       "      <td>&lt;=50K</td>\n",
       "    </tr>\n",
       "    <tr>\n",
       "      <th>30155</th>\n",
       "      <td>32554</td>\n",
       "      <td>53</td>\n",
       "      <td>Private</td>\n",
       "      <td>321865</td>\n",
       "      <td>Masters</td>\n",
       "      <td>14</td>\n",
       "      <td>Married-civ-spouse</td>\n",
       "      <td>Exec-managerial</td>\n",
       "      <td>Husband</td>\n",
       "      <td>White</td>\n",
       "      <td>Male</td>\n",
       "      <td>0</td>\n",
       "      <td>0</td>\n",
       "      <td>40</td>\n",
       "      <td>United-States</td>\n",
       "      <td>&gt;50K</td>\n",
       "    </tr>\n",
       "    <tr>\n",
       "      <th>30156</th>\n",
       "      <td>32555</td>\n",
       "      <td>22</td>\n",
       "      <td>Private</td>\n",
       "      <td>310152</td>\n",
       "      <td>Some-college</td>\n",
       "      <td>10</td>\n",
       "      <td>Never-married</td>\n",
       "      <td>Protective-serv</td>\n",
       "      <td>Not-in-family</td>\n",
       "      <td>White</td>\n",
       "      <td>Male</td>\n",
       "      <td>0</td>\n",
       "      <td>0</td>\n",
       "      <td>40</td>\n",
       "      <td>United-States</td>\n",
       "      <td>&lt;=50K</td>\n",
       "    </tr>\n",
       "    <tr>\n",
       "      <th>30158</th>\n",
       "      <td>32557</td>\n",
       "      <td>40</td>\n",
       "      <td>Private</td>\n",
       "      <td>154374</td>\n",
       "      <td>HS-grad</td>\n",
       "      <td>9</td>\n",
       "      <td>Married-civ-spouse</td>\n",
       "      <td>Machine-op-inspct</td>\n",
       "      <td>Husband</td>\n",
       "      <td>White</td>\n",
       "      <td>Male</td>\n",
       "      <td>0</td>\n",
       "      <td>0</td>\n",
       "      <td>40</td>\n",
       "      <td>United-States</td>\n",
       "      <td>&gt;50K</td>\n",
       "    </tr>\n",
       "    <tr>\n",
       "      <th>30160</th>\n",
       "      <td>32559</td>\n",
       "      <td>22</td>\n",
       "      <td>Private</td>\n",
       "      <td>201490</td>\n",
       "      <td>HS-grad</td>\n",
       "      <td>9</td>\n",
       "      <td>Never-married</td>\n",
       "      <td>Adm-clerical</td>\n",
       "      <td>Own-child</td>\n",
       "      <td>White</td>\n",
       "      <td>Male</td>\n",
       "      <td>0</td>\n",
       "      <td>0</td>\n",
       "      <td>20</td>\n",
       "      <td>United-States</td>\n",
       "      <td>&lt;=50K</td>\n",
       "    </tr>\n",
       "  </tbody>\n",
       "</table>\n",
       "<p>20380 rows × 16 columns</p>\n",
       "</div>"
      ],
      "text/plain": [
       "       Unnamed: 0  age          workclass   fnlgt      education  \\\n",
       "0               0   39          State-gov   77516      Bachelors   \n",
       "1               1   50   Self-emp-not-inc   83311      Bachelors   \n",
       "2               2   38            Private  215646        HS-grad   \n",
       "3               3   53            Private  234721           11th   \n",
       "7               7   52   Self-emp-not-inc  209642        HS-grad   \n",
       "...           ...  ...                ...     ...            ...   \n",
       "30154       32553   32            Private  116138        Masters   \n",
       "30155       32554   53            Private  321865        Masters   \n",
       "30156       32555   22            Private  310152   Some-college   \n",
       "30158       32557   40            Private  154374        HS-grad   \n",
       "30160       32559   22            Private  201490        HS-grad   \n",
       "\n",
       "        education-num       marital-status          occupation  \\\n",
       "0                  13        Never-married        Adm-clerical   \n",
       "1                  13   Married-civ-spouse     Exec-managerial   \n",
       "2                   9             Divorced   Handlers-cleaners   \n",
       "3                   7   Married-civ-spouse   Handlers-cleaners   \n",
       "7                   9   Married-civ-spouse     Exec-managerial   \n",
       "...               ...                  ...                 ...   \n",
       "30154              14        Never-married        Tech-support   \n",
       "30155              14   Married-civ-spouse     Exec-managerial   \n",
       "30156              10        Never-married     Protective-serv   \n",
       "30158               9   Married-civ-spouse   Machine-op-inspct   \n",
       "30160               9        Never-married        Adm-clerical   \n",
       "\n",
       "         relationship                 race    sex   capital-gain  \\\n",
       "0       Not-in-family                White   Male           2174   \n",
       "1             Husband                White   Male              0   \n",
       "2       Not-in-family                White   Male              0   \n",
       "3             Husband                Black   Male              0   \n",
       "7             Husband                White   Male              0   \n",
       "...               ...                  ...    ...            ...   \n",
       "30154   Not-in-family   Asian-Pac-Islander   Male              0   \n",
       "30155         Husband                White   Male              0   \n",
       "30156   Not-in-family                White   Male              0   \n",
       "30158         Husband                White   Male              0   \n",
       "30160       Own-child                White   Male              0   \n",
       "\n",
       "        capital-loss   hours-per-week  native-country  salary  \n",
       "0                  0               40   United-States   <=50K  \n",
       "1                  0               13   United-States   <=50K  \n",
       "2                  0               40   United-States   <=50K  \n",
       "3                  0               40   United-States   <=50K  \n",
       "7                  0               45   United-States    >50K  \n",
       "...              ...              ...             ...     ...  \n",
       "30154              0               11          Taiwan   <=50K  \n",
       "30155              0               40   United-States    >50K  \n",
       "30156              0               40   United-States   <=50K  \n",
       "30158              0               40   United-States    >50K  \n",
       "30160              0               20   United-States   <=50K  \n",
       "\n",
       "[20380 rows x 16 columns]"
      ]
     },
     "execution_count": 47,
     "metadata": {},
     "output_type": "execute_result"
    }
   ],
   "source": [
    "df_temp2=data[df_temp]\n",
    "df_temp2"
   ]
  },
  {
   "cell_type": "code",
   "execution_count": 67,
   "id": "5e0a481e",
   "metadata": {},
   "outputs": [],
   "source": [
    "X_temp, y_temp, encoder1, lb1 = process_data(\n",
    "df_temp2, categorical_features=cat_features, label=\" salary\", training=False, encoder=encoder, lb=lb,\n",
    ")"
   ]
  },
  {
   "cell_type": "code",
   "execution_count": 68,
   "id": "185ebb67",
   "metadata": {},
   "outputs": [
    {
     "data": {
      "text/plain": [
       "105"
      ]
     },
     "execution_count": 68,
     "metadata": {},
     "output_type": "execute_result"
    }
   ],
   "source": [
    "len(X_temp[0])"
   ]
  },
  {
   "cell_type": "code",
   "execution_count": 62,
   "id": "d44ecfe9",
   "metadata": {},
   "outputs": [
    {
     "data": {
      "text/plain": [
       "20380"
      ]
     },
     "execution_count": 62,
     "metadata": {},
     "output_type": "execute_result"
    }
   ],
   "source": [
    "x_temporal=X[df_temp]\n",
    "len(x_temporal)"
   ]
  },
  {
   "cell_type": "code",
   "execution_count": 66,
   "id": "6974d55f",
   "metadata": {},
   "outputs": [
    {
     "data": {
      "text/plain": [
       "105"
      ]
     },
     "execution_count": 66,
     "metadata": {},
     "output_type": "execute_result"
    }
   ],
   "source": [
    "len(X[0])"
   ]
  },
  {
   "cell_type": "code",
   "execution_count": 81,
   "id": "13e25bfd",
   "metadata": {},
   "outputs": [
    {
     "name": "stdout",
     "output_type": "stream",
     "text": [
      "Categoria:   workclass\n",
      " State-gov\n",
      " Self-emp-not-inc\n",
      " Private\n",
      " Federal-gov\n",
      " Local-gov\n",
      " Self-emp-inc\n",
      " Without-pay\n",
      "Categoria:   education\n",
      " Bachelors\n",
      " HS-grad\n",
      " 11th\n",
      " Masters\n",
      " 9th\n",
      " Some-college\n",
      " Assoc-acdm\n",
      " 7th-8th\n",
      " Doctorate\n",
      " Assoc-voc\n",
      " Prof-school\n",
      " 5th-6th\n",
      " 10th\n",
      " Preschool\n",
      " 12th\n",
      " 1st-4th\n",
      "Categoria:   marital-status\n",
      " Never-married\n",
      " Married-civ-spouse\n",
      " Divorced\n",
      " Married-spouse-absent\n",
      " Separated\n",
      " Married-AF-spouse\n",
      " Widowed\n",
      "Categoria:   occupation\n",
      " Adm-clerical\n",
      " Exec-managerial\n",
      " Handlers-cleaners\n",
      " Prof-specialty\n",
      " Other-service\n",
      " Sales\n",
      " Transport-moving\n",
      " Farming-fishing\n",
      " Machine-op-inspct\n",
      " Tech-support\n",
      " Craft-repair\n",
      " Protective-serv\n",
      " Armed-Forces\n",
      " Priv-house-serv\n",
      "Categoria:   relationship\n",
      " Not-in-family\n",
      " Husband\n",
      " Wife\n",
      " Own-child\n",
      " Unmarried\n",
      " Other-relative\n",
      "Categoria:   race\n",
      " White\n",
      " Black\n",
      " Asian-Pac-Islander\n",
      " Amer-Indian-Eskimo\n",
      " Other\n",
      "Categoria:   sex\n",
      " Male\n",
      " Female\n",
      "Categoria:   native-country\n",
      " United-States\n",
      " Cuba\n",
      " Jamaica\n",
      " India\n",
      " Mexico\n",
      " Puerto-Rico\n",
      " Honduras\n",
      " England\n",
      " Canada\n",
      " Germany\n",
      " Iran\n",
      " Philippines\n",
      " Poland\n",
      " Columbia\n",
      " Cambodia\n",
      " Thailand\n",
      " Ecuador\n",
      " Laos\n",
      " Taiwan\n",
      " Haiti\n",
      " Portugal\n",
      " Dominican-Republic\n",
      " El-Salvador\n",
      " France\n",
      " Guatemala\n",
      " Italy\n",
      " China\n",
      " South\n",
      " Japan\n",
      " Yugoslavia\n",
      " Peru\n",
      " Outlying-US(Guam-USVI-etc)\n",
      " Scotland\n",
      " Trinadad&Tobago\n",
      " Greece\n",
      " Nicaragua\n",
      " Vietnam\n",
      " Hong\n",
      " Ireland\n",
      " Hungary\n",
      " Holand-Netherlands\n"
     ]
    }
   ],
   "source": [
    "slice_data(data,cat_features,encoder,lb,best_model)"
   ]
  },
  {
   "cell_type": "code",
   "execution_count": 22,
   "id": "4a31f0e4",
   "metadata": {},
   "outputs": [],
   "source": [
    "##PRUEBA\n",
    "\n",
    "obj={\"age\": [25],\n",
    "\"workclass\": [\"loquito\"],\n",
    "\"fnlgt\": [33],\n",
    "\"education\": [\"nel\"],\n",
    "\"education_num\": [5],\n",
    "\"marital_status\": [\"casado\"],\n",
    "\"occupation\": [\"nada\"],\n",
    "\"relationship\": [\"soltero\"],\n",
    "\"race\": [\"negro sorongo\"],\n",
    "\"sex\": [\"Man\"],\n",
    "\"capital_gain\": [3],\n",
    "\"capital_loss\": [5],\n",
    "\"hours_per_week\": [45],\n",
    "\"native_country\": [\"Gringolandia\"]}"
   ]
  },
  {
   "cell_type": "code",
   "execution_count": 23,
   "id": "e36b5874",
   "metadata": {},
   "outputs": [],
   "source": [
    "data_frame=pd.DataFrame(obj)"
   ]
  },
  {
   "cell_type": "code",
   "execution_count": 19,
   "id": "b9e7e9a9",
   "metadata": {},
   "outputs": [],
   "source": [
    "data_frame=pd.DataFrame.from_dict(obj, orient ='index')"
   ]
  },
  {
   "cell_type": "code",
   "execution_count": 21,
   "id": "9f0b0294",
   "metadata": {},
   "outputs": [
    {
     "data": {
      "text/plain": [
       "{'age': 25,\n",
       " 'workclass': 'loquito',\n",
       " 'fnlgt': 33,\n",
       " 'education': 'nel',\n",
       " 'education_num': 5,\n",
       " 'marital_status': 'casado',\n",
       " 'occupation': 'nada',\n",
       " 'relationship': 'soltero',\n",
       " 'race': 'negro sorongo',\n",
       " 'sex': 'Man',\n",
       " 'capital_gain': 3,\n",
       " 'capital_loss': 5,\n",
       " 'hours_per_week': 45,\n",
       " 'native_country': 'Gringolandia'}"
      ]
     },
     "execution_count": 21,
     "metadata": {},
     "output_type": "execute_result"
    }
   ],
   "source": [
    "obj"
   ]
  },
  {
   "cell_type": "code",
   "execution_count": 24,
   "id": "7254b6ce",
   "metadata": {},
   "outputs": [
    {
     "data": {
      "text/html": [
       "<div>\n",
       "<style scoped>\n",
       "    .dataframe tbody tr th:only-of-type {\n",
       "        vertical-align: middle;\n",
       "    }\n",
       "\n",
       "    .dataframe tbody tr th {\n",
       "        vertical-align: top;\n",
       "    }\n",
       "\n",
       "    .dataframe thead th {\n",
       "        text-align: right;\n",
       "    }\n",
       "</style>\n",
       "<table border=\"1\" class=\"dataframe\">\n",
       "  <thead>\n",
       "    <tr style=\"text-align: right;\">\n",
       "      <th></th>\n",
       "      <th>age</th>\n",
       "      <th>workclass</th>\n",
       "      <th>fnlgt</th>\n",
       "      <th>education</th>\n",
       "      <th>education_num</th>\n",
       "      <th>marital_status</th>\n",
       "      <th>occupation</th>\n",
       "      <th>relationship</th>\n",
       "      <th>race</th>\n",
       "      <th>sex</th>\n",
       "      <th>capital_gain</th>\n",
       "      <th>capital_loss</th>\n",
       "      <th>hours_per_week</th>\n",
       "      <th>native_country</th>\n",
       "    </tr>\n",
       "  </thead>\n",
       "  <tbody>\n",
       "    <tr>\n",
       "      <th>0</th>\n",
       "      <td>25</td>\n",
       "      <td>loquito</td>\n",
       "      <td>33</td>\n",
       "      <td>nel</td>\n",
       "      <td>5</td>\n",
       "      <td>casado</td>\n",
       "      <td>nada</td>\n",
       "      <td>soltero</td>\n",
       "      <td>negro sorongo</td>\n",
       "      <td>Man</td>\n",
       "      <td>3</td>\n",
       "      <td>5</td>\n",
       "      <td>45</td>\n",
       "      <td>Gringolandia</td>\n",
       "    </tr>\n",
       "  </tbody>\n",
       "</table>\n",
       "</div>"
      ],
      "text/plain": [
       "   age workclass  fnlgt education  education_num marital_status occupation  \\\n",
       "0   25   loquito     33       nel              5         casado       nada   \n",
       "\n",
       "  relationship           race  sex  capital_gain  capital_loss  \\\n",
       "0      soltero  negro sorongo  Man             3             5   \n",
       "\n",
       "   hours_per_week native_country  \n",
       "0              45   Gringolandia  "
      ]
     },
     "execution_count": 24,
     "metadata": {},
     "output_type": "execute_result"
    }
   ],
   "source": [
    "data_frame"
   ]
  },
  {
   "cell_type": "code",
   "execution_count": 31,
   "id": "fd16b12e",
   "metadata": {},
   "outputs": [],
   "source": [
    "def algo():\n",
    "    num1=1\n",
    "    num2=2\n",
    "    num3=3\n",
    "    num4=4\n",
    "    return num1, num2, num3, num4"
   ]
  },
  {
   "cell_type": "code",
   "execution_count": 33,
   "id": "13c67a98",
   "metadata": {},
   "outputs": [
    {
     "name": "stdout",
     "output_type": "stream",
     "text": [
      "1 2\n"
     ]
    }
   ],
   "source": [
    "uno,dos,tres,cuatro=algo()\n",
    "\n",
    "print(uno,dos)"
   ]
  },
  {
   "cell_type": "code",
   "execution_count": null,
   "id": "c2f947bd",
   "metadata": {},
   "outputs": [],
   "source": []
  }
 ],
 "metadata": {
  "kernelspec": {
   "display_name": "Python 3 (ipykernel)",
   "language": "python",
   "name": "python3"
  },
  "language_info": {
   "codemirror_mode": {
    "name": "ipython",
    "version": 3
   },
   "file_extension": ".py",
   "mimetype": "text/x-python",
   "name": "python",
   "nbconvert_exporter": "python",
   "pygments_lexer": "ipython3",
   "version": "3.8.12"
  }
 },
 "nbformat": 4,
 "nbformat_minor": 5
}
