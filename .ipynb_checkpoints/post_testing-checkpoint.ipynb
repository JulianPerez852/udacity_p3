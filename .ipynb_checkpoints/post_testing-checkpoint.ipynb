{
 "cells": [
  {
   "cell_type": "code",
   "execution_count": 1,
   "id": "10b26689",
   "metadata": {},
   "outputs": [],
   "source": [
    "import requests\n",
    "import json"
   ]
  },
  {
   "cell_type": "code",
   "execution_count": 7,
   "id": "8f2b8aaa",
   "metadata": {},
   "outputs": [],
   "source": [
    "path = \"https://udacityp3.herokuapp.com/predict\"\n",
    "json={\n",
    "        \"age\": 39,\n",
    "        \"workclass\": \"State-gov\",\n",
    "        \"fnlgt\": 77516,\n",
    "        \"education\": \"Bachelors\",\n",
    "        \"education_num\": 13,\n",
    "        \"marital_status\": \"Never-married\",\n",
    "        \"occupation\": \"Adm-clerical\",\n",
    "        \"relationship\": \"Not-in-family\",\n",
    "        \"race\": \"White\",\n",
    "        \"sex\": \"Male\",\n",
    "        \"capital_gain\": 2174,\n",
    "        \"capital_loss\": 0,\n",
    "        \"hours_per_week\": 40,\n",
    "        \"native_country\": \"United-States\"\n",
    "}"
   ]
  },
  {
   "cell_type": "code",
   "execution_count": 8,
   "id": "12f5621a",
   "metadata": {},
   "outputs": [],
   "source": [
    "response = requests.post(url=path, json=json)"
   ]
  },
  {
   "cell_type": "code",
   "execution_count": 9,
   "id": "51d143dc",
   "metadata": {},
   "outputs": [
    {
     "name": "stdout",
     "output_type": "stream",
     "text": [
      "200\n"
     ]
    }
   ],
   "source": [
    "print(response.status_code)"
   ]
  },
  {
   "cell_type": "code",
   "execution_count": 10,
   "id": "a7bc2127",
   "metadata": {},
   "outputs": [
    {
     "name": "stdout",
     "output_type": "stream",
     "text": [
      "\"This person gain in one year  <=50K\"\n"
     ]
    }
   ],
   "source": [
    "print(response.text)"
   ]
  },
  {
   "cell_type": "code",
   "execution_count": null,
   "id": "e1ec5c38",
   "metadata": {},
   "outputs": [],
   "source": []
  }
 ],
 "metadata": {
  "kernelspec": {
   "display_name": "Python 3 (ipykernel)",
   "language": "python",
   "name": "python3"
  },
  "language_info": {
   "codemirror_mode": {
    "name": "ipython",
    "version": 3
   },
   "file_extension": ".py",
   "mimetype": "text/x-python",
   "name": "python",
   "nbconvert_exporter": "python",
   "pygments_lexer": "ipython3",
   "version": "3.8.12"
  }
 },
 "nbformat": 4,
 "nbformat_minor": 5
}
